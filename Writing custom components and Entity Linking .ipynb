{
 "cells": [
  {
   "cell_type": "markdown",
   "metadata": {},
   "source": [
    "# Introduction\n",
    "\n",
    "The goal of this notebook is show how to write and use custom processors and components using the new methods provided by spaCy 2.\n"
   ]
  },
  {
   "cell_type": "markdown",
   "metadata": {},
   "source": [
    "# Pipelines\n",
    "\n",
    "spaCy works with the concept of pipelines which pipe different processors. For example the basic English model pipeline is:"
   ]
  },
  {
   "cell_type": "code",
   "execution_count": null,
   "metadata": {},
   "outputs": [],
   "source": [
    "import spacy\n",
    "\n",
    "nlp = spacy.load('en)\n",
    "\n",
    "print(nlp.pipe_names) # Default processing components for en model"
   ]
  },
  {
   "cell_type": "markdown",
   "metadata": {},
   "source": [
    "# Adding a new processor to the pipeline\n",
    "\n",
    "Custom processor can be added to existing pipelines. A processor can be a function or class with a call method, that receive a spaCy doc and returns a potentially modified doc:"
   ]
  },
  {
   "cell_type": "code",
   "execution_count": null,
   "metadata": {},
   "outputs": [],
   "source": [
    "def custom_processor(doc):\n",
    "    # Do something with doc here: add annotations, merge spans, ...\n",
    "    print('I am a silly processor')\n",
    "    return doc \n",
    "nlp.add_pipe(custom_processor, name='silly_processor', first=True)\n",
    "\n",
    "print(nlp.pipe_names)"
   ]
  },
  {
   "cell_type": "markdown",
   "metadata": {},
   "source": [
    "## Exercise 1\n",
    "Write a component that prints the number of tokens in a document"
   ]
  },
  {
   "cell_type": "code",
   "execution_count": null,
   "metadata": {
    "collapsed": true
   },
   "outputs": [],
   "source": [
    "def print_len(doc):\n",
    "    return len(doc)\n",
    "\n",
    "nlp.add_pipe(print_len, name='print_len')\n",
    "nlp"
   ]
  },
  {
   "cell_type": "markdown",
   "metadata": {},
   "source": [
    "# Adding stateful components to the pipeline\n",
    "\n",
    "Classes can be used to init a component with state (e.g., vocab, endpoint for accessing a web API, etc.:\n"
   ]
  },
  {
   "cell_type": "code",
   "execution_count": null,
   "metadata": {},
   "outputs": [],
   "source": [
    "class CustomComponent(object):\n",
    "    name = 'still_silly'\n",
    "    def __init__(self, config):\n",
    "        # We can initialize this with settings\n",
    "        self.config = config\n",
    "    def  __call__(self, doc):\n",
    "        # Do things\n",
    "        return doc\n",
    "    def __call__(self, doc):\n",
    "        return doc\n",
    "\n",
    "custom_component = CustomComponent({}) \n",
    "nlp.add_pipe(custom_component) \n",
    "print(nlp.pipe_names)"
   ]
  },
  {
   "cell_type": "markdown",
   "metadata": {
    "collapsed": true
   },
   "source": [
    "## Exercise 2\n",
    "\n",
    "Write a custom component that can be initialize with a NER type (e.g., ORG) and that prints the number of entities of that type in the doc "
   ]
  },
  {
   "cell_type": "code",
   "execution_count": null,
   "metadata": {
    "collapsed": true
   },
   "outputs": [],
   "source": []
  },
  {
   "cell_type": "markdown",
   "metadata": {},
   "source": [
    "# Using extensions to write new attributes and annotations to tokens, spans and documents\n",
    "spaCy 2 allows the developer to create custom properties and attach them to Tokens, Spans, and Docs. Typically, these custom attributes will be created dynamically by custom processors, as we will see at the end with the Entity Linking example. First let's see a simple example:\n",
    "\n"
   ]
  },
  {
   "cell_type": "code",
   "execution_count": null,
   "metadata": {},
   "outputs": [],
   "source": [
    "from spacy.tokens import Doc, Span, Token\n",
    "\n",
    "experiment_keywords = ['experiment', 'results', 'validation', 'experimental']\n",
    "\n",
    "is_experiment_keyword = lambda token: token.lower_ in experiment_keywords\n",
    "is_experiment_part = lambda text: any([token.lower_ in experiment_keywords for token in text])\n",
    "\n",
    "Token.set_extension('is_experiment_keyword', getter=is_experiment_keyword)\n",
    "Doc.set_extension('has_experiment_part', getter=is_experiment_part)\n",
    "Span.set_extension('is_experiment_part', getter=is_experiment_part) "
   ]
  },
  {
   "cell_type": "code",
   "execution_count": null,
   "metadata": {},
   "outputs": [],
   "source": [
    "doc = nlp(u\"This section presents the experimental results.\") \n",
    "print(doc._.has_experiment_part)\n",
    "print(doc[4:5]._.is_experiment_part)\n",
    "print(doc[1:2]._.is_experiment_part)"
   ]
  },
  {
   "cell_type": "markdown",
   "metadata": {},
   "source": [
    "# Putting it all together: Entity Linking using Agdistis endpoints\n",
    "\n",
    "To demonstrate the capabilities of custom components in spaCy, we have created a simple component which uses the nice Agdistis entity linking services described at https://github.com/dice-group/AGDISTIS.\n",
    "\n",
    "The custom component is available at: `lib/linkers.py`\n"
   ]
  },
  {
   "cell_type": "code",
   "execution_count": null,
   "metadata": {},
   "outputs": [],
   "source": [
    "from lib import AgdistisEntityLinker\n",
    "\n",
    "linker = AgdistisEntityLinker()"
   ]
  },
  {
   "cell_type": "code",
   "execution_count": null,
   "metadata": {},
   "outputs": [],
   "source": [
    "nlp.add_pipe(linker)\n",
    "print(nlp.pipe_names)"
   ]
  },
  {
   "cell_type": "code",
   "execution_count": null,
   "metadata": {},
   "outputs": [],
   "source": [
    "text = \"Google LLC is an American multinational technology company that specializes in Internet-related services and products. These include online advertising technologies, search, cloud computing, software, and hardware. Google was founded in 1998 by Larry Page and Sergey Brin while they were Ph.D. students at Stanford University, in California. Together, they own about 14 percent of its shares, and control 56 percent of the stockholder voting power through supervoting stock. They incorporated Google as a privately held company on September 4, 1998. An initial public offering (IPO) took place on August 19, 2004, and Google moved to its new headquarters in Mountain View, California, nicknamed the Googleplex. \"\n",
    "doc = nlp(text)\n",
    "for ent in doc.ents:\n",
    "    if(ent._.has_dbpedia_uri):\n",
    "        print(ent._.dbpedia_uri)"
   ]
  },
  {
   "cell_type": "markdown",
   "metadata": {},
   "source": [
    "## Final exercises\n",
    "\n",
    "Agdistis provides endpoints for different languages. Test the custom component with different languages. Please remember to download and install these languages using `python -m spacy download lang`.\n"
   ]
  },
  {
   "cell_type": "code",
   "execution_count": null,
   "metadata": {
    "collapsed": true
   },
   "outputs": [],
   "source": [
    "# de"
   ]
  },
  {
   "cell_type": "code",
   "execution_count": null,
   "metadata": {
    "collapsed": true
   },
   "outputs": [],
   "source": [
    "# es"
   ]
  },
  {
   "cell_type": "code",
   "execution_count": null,
   "metadata": {
    "collapsed": true
   },
   "outputs": [],
   "source": [
    "# fr"
   ]
  },
  {
   "cell_type": "markdown",
   "metadata": {},
   "source": [
    "## Extra: \n",
    "Using similarity methods in entity surface forms (text) for listing most dissimilar entities. You might need to download a spa"
   ]
  },
  {
   "cell_type": "code",
   "execution_count": 44,
   "metadata": {},
   "outputs": [
    {
     "name": "stdout",
     "output_type": "stream",
     "text": [
      "[('http://dbpedia.org/resource/American_McGee', 3.0031245001739504), ('http://dbpedia.org/resource/Ph.D._(band)', 3.5573368906102765), ('http://dbpedia.org/resource/Sergey_Brin', 5.5983635527915059), ('http://dbpedia.org/resource/Googleplex', 6.1589201220928214), ('http://dbpedia.org/resource/Mountain_View,_California', 6.3304150115303051), ('http://dbpedia.org/resource/Larry_Page', 6.4600735751997433), ('http://dbpedia.org/resource/Stanford_University', 6.5145620198743925), ('http://dbpedia.org/resource/September_1,_1939', 7.6217991003315637), ('http://dbpedia.org/resource/California', 12.373009386132999)]\n"
     ]
    }
   ],
   "source": [
    "counter = 0\n",
    "cumulative_sim = {}\n",
    "for ent in doc.ents:\n",
    "    for ent2 in doc.ents:\n",
    "        if(ent._.has_dbpedia_uri and ent2._.has_dbpedia_uri):\n",
    "            counter += 1\n",
    "            sim = ent.similarity(ent2)\n",
    "            if(cumulative_sim.get(ent._.dbpedia_uri)):\n",
    "                cumulative_sim[ent._.dbpedia_uri] =  cumulative_sim[ent._.dbpedia_uri] + sim\n",
    "            else:\n",
    "                cumulative_sim[ent._.dbpedia_uri] = sim\n",
    "\n",
    "less_similar =  sorted(cumulative_sim.items(), key=lambda x: x[1])\n",
    "print(less_similar)"
   ]
  },
  {
   "cell_type": "code",
   "execution_count": null,
   "metadata": {
    "collapsed": true
   },
   "outputs": [],
   "source": []
  }
 ],
 "metadata": {
  "kernelspec": {
   "display_name": "Python 3",
   "language": "python",
   "name": "python3"
  },
  "language_info": {
   "codemirror_mode": {
    "name": "ipython",
    "version": 3
   },
   "file_extension": ".py",
   "mimetype": "text/x-python",
   "name": "python",
   "nbconvert_exporter": "python",
   "pygments_lexer": "ipython3",
   "version": "3.5.4"
  }
 },
 "nbformat": 4,
 "nbformat_minor": 2
}
